{
 "cells": [
  {
   "cell_type": "markdown",
   "id": "cddf5de3-a9f3-4471-bbaf-aca41a70ce89",
   "metadata": {},
   "source": [
    "### INST326 OOP Project 03"
   ]
  },
  {
   "cell_type": "markdown",
   "id": "2bb7f115-9eba-4f29-918e-b016e6a7edc8",
   "metadata": {},
   "source": [
    "Rename this notebook, replacing \"_Assignment\" with \"_YourName\"<br>\n",
    "Insert Signature Block Here"
   ]
  },
  {
   "cell_type": "markdown",
   "id": "8ee05bdb-db2d-41c2-9f23-3af75d058612",
   "metadata": {},
   "source": [
    "### The Project\n",
    "Everyone will do the same project this time. This is a group project, so you must work in your assigned groups. Include the link to your group's GitHub repository (one link per group). Use comments in your code to document your solution. If you need to write comments to the grader, add a markdown cell immediately above your code solution and add your comments there. Be sure to read and follow all the requirements and the Notebook Instructions at the bottom of this notebook. Your grade may depend on it!"
   ]
  },
  {
   "cell_type": "markdown",
   "id": "a1c98e85-2c64-4a03-8309-d91035cca6d2",
   "metadata": {},
   "source": [
    "#### 1. A Scheduling Program\r",
    ">  My wife is responsible for scheduling caregivers for her 93 year-old mother. Currently she writes out the schedule on a monthly calendar and photocopies it for everyone. I want all of you to help me write a program to help her with scheduling. While this is a specific application, this program will be broadly useful and adaptable to any scheduling needs for small businesses, clubs, and more."
   ]
  },
  {
   "cell_type": "markdown",
   "id": "28b28d8a-dbb3-4f15-bbe0-e14504b84876",
   "metadata": {},
   "source": [
    "#### Requirements\n",
    ">  Care is required 12 hours per day, 7 days a week. There are two shifts each day: 7:00 AM - 1:00 PM, and 1:00 PM to 7:00 PM. There are a total of 8 caregivers. Some are family members and some are paid. Each caregiver has their own availability for shifts that is generally the same from month to month, but there are exceptions for work, vacations, and other responsibilities. Your program should do the following:\n",
    "> 1. Manage caregivers and their schedules. Attributes include: name, phone, email, pay rate, and hours.\n",
    "> 2. Each caregiver should have their own availability schedule where they can indicate their availability for each shift. Availability categories are 'preferred', 'available' (default), and 'unavailable'.\n",
    "> 3. Create a care schedule that covers AM and PM shifts and displays caregiver names on a calendar (see example). The schedule should accomodate caregivers' individual schedules and availability preferences. The python calendar module provides options for creating HTML calendars. Sample code for the HTML calendar is in the project folder.\n",
    "> 4. Paid caregivers are paid weekly at $20/hr. Your program should calculate weekly pay based on assigned hours. Provide a separate pay report that lists weekly (gross: hours x rate) amounts to each caregiver, along with weekly and monthly totals. The report can be a text document, or presented in GUI or HTML format. "
   ]
  },
  {
   "cell_type": "markdown",
   "id": "6708f6cf-aac7-430e-947d-6f9c8dd161f6",
   "metadata": {
    "jp-MarkdownHeadingCollapsed": true
   },
   "source": [
    "#### Group Requirements\n",
    ">  1. Your submitted project should follow OOP principles like abstraction, encapsulation, inheritance, and polymorphism as appropriate. Your program should use classes. \n",
    ">  2. Select a group leader who will host the group's project repository on their GitHub.\n",
    ">  3. Create the group repository and add a main program document. See example.\n",
    ">  4. Create branches off the main program for each group member, and assign part of the program to each member.\n",
    ">  5. Each member should work on their branch.\n",
    ">  6. When each member is finished, merge the branches back into the main program. You may use 'merge' or 'pull requests', your choice.\n",
    ">  7. iterate and debug as necessary."
   ]
  },
  {
   "cell_type": "markdown",
   "id": "71b8f18e-607a-4c94-81a3-ebbc488ba8c6",
   "metadata": {},
   "source": [
    "#### Working with HTML\n",
    "> Since this is a course on python, not HTML, you are not expected to know HTML. Therefore, you may copy applicable portions of the sample code or use AI to write the HTML portions of your application. Ypu should write the main python code yourself.\n"
   ]
  },
  {
   "cell_type": "markdown",
   "id": "fc336368-4292-42af-aa60-06b27ff6b303",
   "metadata": {
    "jp-MarkdownHeadingCollapsed": true
   },
   "source": [
    "#### What you need to turn in\n",
    ">  This is a group project. There will be one submission per group. Your submission will be graded as a group.\n",
    ">  1. Include your group number and the names of all group members in the signature block at the top of this notebook.\n",
    ">  2. In the cell below, paste the link to your project repository. One link per group. The grader will review the activity and history provided by GitHub. To add a hyperlink to a Jupyter markdown cell, follow the instructions in the cell below.\n",
    ">  3. Below the GitHub Repository Link cell is a code cell. Copy and paste your final program code into this cell."
   ]
  },
  {
   "cell_type": "markdown",
   "id": "3ece03e6-a41f-484d-8417-d8c4e156b2c0",
   "metadata": {},
   "source": [
    "#### GitHub Repository Link\n",
    "> Example: [INST326_Fall2024/Projects/Project03](https://github.com/sdempwolf/INST326_Fall_2024/tree/main/Projects/Project03)\n",
    ">\n",
    "> Edit the link code below with your information, then run this cell. Test the link! It should take you to your GitHub project repository.\n",
    "> [external link text](http://url_here)"
   ]
  },
  {
   "cell_type": "code",
   "execution_count": null,
   "id": "cb35b908-6683-4144-816c-051715925504",
   "metadata": {},
   "outputs": [],
   "source": [
    "# Solution - enter your code solution below\n"
   ]
  },
  {
   "cell_type": "markdown",
   "id": "ec8ddd19-87cd-475d-a07f-7dc8983dc636",
   "metadata": {},
   "source": [
    "### Notebook Instructions\n",
    "> Before turning in your notebook:\n",
    "> 1. Make sure you have renamed the notebook file as instructed\n",
    "> 2. Make sure you have included your signature block and that it is correct according to the instructions\n",
    "> 3. comment your code as necessary\n",
    "> 4. run all code cells and double check that they run correctly. If you can't get your code to run correctly and you want partial credit, add a note for the grader in a new markdown cell directly above your code solution.<br><br>\n",
    "Turn in your notebook by uploading it to ELMS<br>\n",
    "IF the exercises involve saved data files, put your notebook and the data file(s) in a zip folder and upload the zip folder to ELMS"
   ]
  },
  {
   "cell_type": "code",
   "execution_count": 6,
   "id": "d43bb349-bf30-4d0d-866b-615827c83e0f",
   "metadata": {},
   "outputs": [
    {
     "name": "stdout",
     "output_type": "stream",
     "text": [
      "\n",
      "Caregiver Sign-In\n",
      "Caregiver 1\n",
      "Caregiver 2\n",
      "Caregiver 3\n",
      "Caregiver 4\n",
      "Caregiver 5\n",
      "Caregiver 6\n",
      "Caregiver 7\n",
      "Caregiver 8\n"
     ]
    },
    {
     "name": "stdin",
     "output_type": "stream",
     "text": [
      "Enter your name:  Caregiver 1\n"
     ]
    },
    {
     "name": "stdout",
     "output_type": "stream",
     "text": [
      "\n",
      "Setting availability for Caregiver 1 for the week:\n",
      "\n",
      "\n",
      "Monday:\n",
      "  1. 7:00 AM - 1:00 PM\n",
      "  2. 1:00 PM - 7:00 PM\n"
     ]
    },
    {
     "name": "stdin",
     "output_type": "stream",
     "text": [
      "Enter the shift numbers you're available for on Monday (separated by commas), or '0' if unavailable:  1\n"
     ]
    },
    {
     "name": "stdout",
     "output_type": "stream",
     "text": [
      "\n",
      "Tuesday:\n",
      "  1. 7:00 AM - 1:00 PM\n",
      "  2. 1:00 PM - 7:00 PM\n"
     ]
    },
    {
     "name": "stdin",
     "output_type": "stream",
     "text": [
      "Enter the shift numbers you're available for on Tuesday (separated by commas), or '0' if unavailable:  1\n"
     ]
    },
    {
     "name": "stdout",
     "output_type": "stream",
     "text": [
      "\n",
      "Wednesday:\n",
      "  1. 7:00 AM - 1:00 PM\n",
      "  2. 1:00 PM - 7:00 PM\n"
     ]
    },
    {
     "name": "stdin",
     "output_type": "stream",
     "text": [
      "Enter the shift numbers you're available for on Wednesday (separated by commas), or '0' if unavailable:  1\n"
     ]
    },
    {
     "name": "stdout",
     "output_type": "stream",
     "text": [
      "\n",
      "Thursday:\n",
      "  1. 7:00 AM - 1:00 PM\n",
      "  2. 1:00 PM - 7:00 PM\n"
     ]
    },
    {
     "name": "stdin",
     "output_type": "stream",
     "text": [
      "Enter the shift numbers you're available for on Thursday (separated by commas), or '0' if unavailable:  1\n"
     ]
    },
    {
     "name": "stdout",
     "output_type": "stream",
     "text": [
      "\n",
      "Friday:\n",
      "  1. 7:00 AM - 1:00 PM\n",
      "  2. 1:00 PM - 7:00 PM\n"
     ]
    },
    {
     "name": "stdin",
     "output_type": "stream",
     "text": [
      "Enter the shift numbers you're available for on Friday (separated by commas), or '0' if unavailable:  1\n"
     ]
    },
    {
     "name": "stdout",
     "output_type": "stream",
     "text": [
      "\n",
      "Saturday:\n",
      "  1. 7:00 AM - 1:00 PM\n",
      "  2. 1:00 PM - 7:00 PM\n"
     ]
    },
    {
     "name": "stdin",
     "output_type": "stream",
     "text": [
      "Enter the shift numbers you're available for on Saturday (separated by commas), or '0' if unavailable:  1\n"
     ]
    },
    {
     "name": "stdout",
     "output_type": "stream",
     "text": [
      "\n",
      "Sunday:\n",
      "  1. 7:00 AM - 1:00 PM\n",
      "  2. 1:00 PM - 7:00 PM\n"
     ]
    },
    {
     "name": "stdin",
     "output_type": "stream",
     "text": [
      "Enter the shift numbers you're available for on Sunday (separated by commas), or '0' if unavailable:  1\n"
     ]
    },
    {
     "name": "stdout",
     "output_type": "stream",
     "text": [
      "\n",
      "Caregiver 1 has successfully submitted their availability.\n",
      "Total hours for Caregiver 1: 42 hours.\n",
      "\n",
      "\n",
      "Caregiver Sign-In\n",
      "Caregiver 1 - submitted\n",
      "Caregiver 2\n",
      "Caregiver 3\n",
      "Caregiver 4\n",
      "Caregiver 5\n",
      "Caregiver 6\n",
      "Caregiver 7\n",
      "Caregiver 8\n"
     ]
    },
    {
     "name": "stdin",
     "output_type": "stream",
     "text": [
      "Enter your name:  1\n"
     ]
    },
    {
     "name": "stdout",
     "output_type": "stream",
     "text": [
      "Caregiver not found. Please try again.\n",
      "\n",
      "Caregiver Sign-In\n",
      "Caregiver 1 - submitted\n",
      "Caregiver 2\n",
      "Caregiver 3\n",
      "Caregiver 4\n",
      "Caregiver 5\n",
      "Caregiver 6\n",
      "Caregiver 7\n",
      "Caregiver 8\n"
     ]
    },
    {
     "name": "stdin",
     "output_type": "stream",
     "text": [
      "Enter your name:  Caregiver 2\n"
     ]
    },
    {
     "name": "stdout",
     "output_type": "stream",
     "text": [
      "\n",
      "Setting availability for Caregiver 2 for the week:\n",
      "\n",
      "\n",
      "Monday:\n",
      "  2. 1:00 PM - 7:00 PM\n"
     ]
    },
    {
     "name": "stdin",
     "output_type": "stream",
     "text": [
      "Enter the shift numbers you're available for on Monday (separated by commas), or '0' if unavailable:  2\n"
     ]
    },
    {
     "name": "stdout",
     "output_type": "stream",
     "text": [
      "\n",
      "Tuesday:\n",
      "  2. 1:00 PM - 7:00 PM\n"
     ]
    },
    {
     "name": "stdin",
     "output_type": "stream",
     "text": [
      "Enter the shift numbers you're available for on Tuesday (separated by commas), or '0' if unavailable:  2\n"
     ]
    },
    {
     "name": "stdout",
     "output_type": "stream",
     "text": [
      "\n",
      "Wednesday:\n",
      "  2. 1:00 PM - 7:00 PM\n"
     ]
    },
    {
     "name": "stdin",
     "output_type": "stream",
     "text": [
      "Enter the shift numbers you're available for on Wednesday (separated by commas), or '0' if unavailable:  0\n"
     ]
    },
    {
     "name": "stdout",
     "output_type": "stream",
     "text": [
      "\n",
      "Thursday:\n",
      "  2. 1:00 PM - 7:00 PM\n"
     ]
    },
    {
     "name": "stdin",
     "output_type": "stream",
     "text": [
      "Enter the shift numbers you're available for on Thursday (separated by commas), or '0' if unavailable:  0\n"
     ]
    },
    {
     "name": "stdout",
     "output_type": "stream",
     "text": [
      "\n",
      "Friday:\n",
      "  2. 1:00 PM - 7:00 PM\n"
     ]
    },
    {
     "name": "stdin",
     "output_type": "stream",
     "text": [
      "Enter the shift numbers you're available for on Friday (separated by commas), or '0' if unavailable:  0\n"
     ]
    },
    {
     "name": "stdout",
     "output_type": "stream",
     "text": [
      "\n",
      "Saturday:\n",
      "  2. 1:00 PM - 7:00 PM\n"
     ]
    },
    {
     "name": "stdin",
     "output_type": "stream",
     "text": [
      "Enter the shift numbers you're available for on Saturday (separated by commas), or '0' if unavailable:  0\n"
     ]
    },
    {
     "name": "stdout",
     "output_type": "stream",
     "text": [
      "\n",
      "Sunday:\n",
      "  2. 1:00 PM - 7:00 PM\n"
     ]
    },
    {
     "name": "stdin",
     "output_type": "stream",
     "text": [
      "Enter the shift numbers you're available for on Sunday (separated by commas), or '0' if unavailable:  0\n"
     ]
    },
    {
     "name": "stdout",
     "output_type": "stream",
     "text": [
      "\n",
      "Caregiver 2 has successfully submitted their availability.\n",
      "Total hours for Caregiver 2: 12 hours.\n",
      "\n",
      "\n",
      "Caregiver Sign-In\n",
      "Caregiver 1 - submitted\n",
      "Caregiver 2 - submitted\n",
      "Caregiver 3\n",
      "Caregiver 4\n",
      "Caregiver 5\n",
      "Caregiver 6\n",
      "Caregiver 7\n",
      "Caregiver 8\n"
     ]
    },
    {
     "name": "stdin",
     "output_type": "stream",
     "text": [
      "Enter your name:  Caregiver 3\n"
     ]
    },
    {
     "name": "stdout",
     "output_type": "stream",
     "text": [
      "\n",
      "Setting availability for Caregiver 3 for the week:\n",
      "\n",
      "\n",
      "Monday:\n",
      "  All shifts are filled for this day.\n",
      "\n",
      "Tuesday:\n",
      "  All shifts are filled for this day.\n",
      "\n",
      "Wednesday:\n",
      "  2. 1:00 PM - 7:00 PM\n"
     ]
    },
    {
     "name": "stdin",
     "output_type": "stream",
     "text": [
      "Enter the shift numbers you're available for on Wednesday (separated by commas), or '0' if unavailable:  2\n"
     ]
    },
    {
     "name": "stdout",
     "output_type": "stream",
     "text": [
      "\n",
      "Thursday:\n",
      "  2. 1:00 PM - 7:00 PM\n"
     ]
    },
    {
     "name": "stdin",
     "output_type": "stream",
     "text": [
      "Enter the shift numbers you're available for on Thursday (separated by commas), or '0' if unavailable:  0\n"
     ]
    },
    {
     "name": "stdout",
     "output_type": "stream",
     "text": [
      "\n",
      "Friday:\n",
      "  2. 1:00 PM - 7:00 PM\n"
     ]
    },
    {
     "name": "stdin",
     "output_type": "stream",
     "text": [
      "Enter the shift numbers you're available for on Friday (separated by commas), or '0' if unavailable:  0\n"
     ]
    },
    {
     "name": "stdout",
     "output_type": "stream",
     "text": [
      "\n",
      "Saturday:\n",
      "  2. 1:00 PM - 7:00 PM\n"
     ]
    },
    {
     "name": "stdin",
     "output_type": "stream",
     "text": [
      "Enter the shift numbers you're available for on Saturday (separated by commas), or '0' if unavailable:  0\n"
     ]
    },
    {
     "name": "stdout",
     "output_type": "stream",
     "text": [
      "\n",
      "Sunday:\n",
      "  2. 1:00 PM - 7:00 PM\n"
     ]
    },
    {
     "name": "stdin",
     "output_type": "stream",
     "text": [
      "Enter the shift numbers you're available for on Sunday (separated by commas), or '0' if unavailable:  0\n"
     ]
    },
    {
     "name": "stdout",
     "output_type": "stream",
     "text": [
      "\n",
      "Caregiver 3 has successfully submitted their availability.\n",
      "Total hours for Caregiver 3: 6 hours.\n",
      "\n",
      "\n",
      "Caregiver Sign-In\n",
      "Caregiver 1 - submitted\n",
      "Caregiver 2 - submitted\n",
      "Caregiver 3 - submitted\n",
      "Caregiver 4\n",
      "Caregiver 5\n",
      "Caregiver 6\n",
      "Caregiver 7\n",
      "Caregiver 8\n"
     ]
    },
    {
     "name": "stdin",
     "output_type": "stream",
     "text": [
      "Enter your name:  Caregiver 4\n"
     ]
    },
    {
     "name": "stdout",
     "output_type": "stream",
     "text": [
      "\n",
      "Setting availability for Caregiver 4 for the week:\n",
      "\n",
      "\n",
      "Monday:\n",
      "  All shifts are filled for this day.\n",
      "\n",
      "Tuesday:\n",
      "  All shifts are filled for this day.\n",
      "\n",
      "Wednesday:\n",
      "  All shifts are filled for this day.\n",
      "\n",
      "Thursday:\n",
      "  2. 1:00 PM - 7:00 PM\n"
     ]
    },
    {
     "name": "stdin",
     "output_type": "stream",
     "text": [
      "Enter the shift numbers you're available for on Thursday (separated by commas), or '0' if unavailable:  2\n"
     ]
    },
    {
     "name": "stdout",
     "output_type": "stream",
     "text": [
      "\n",
      "Friday:\n",
      "  2. 1:00 PM - 7:00 PM\n"
     ]
    },
    {
     "name": "stdin",
     "output_type": "stream",
     "text": [
      "Enter the shift numbers you're available for on Friday (separated by commas), or '0' if unavailable:  0\n"
     ]
    },
    {
     "name": "stdout",
     "output_type": "stream",
     "text": [
      "\n",
      "Saturday:\n",
      "  2. 1:00 PM - 7:00 PM\n"
     ]
    },
    {
     "name": "stdin",
     "output_type": "stream",
     "text": [
      "Enter the shift numbers you're available for on Saturday (separated by commas), or '0' if unavailable:  0\n"
     ]
    },
    {
     "name": "stdout",
     "output_type": "stream",
     "text": [
      "\n",
      "Sunday:\n",
      "  2. 1:00 PM - 7:00 PM\n"
     ]
    },
    {
     "name": "stdin",
     "output_type": "stream",
     "text": [
      "Enter the shift numbers you're available for on Sunday (separated by commas), or '0' if unavailable:  0\n"
     ]
    },
    {
     "name": "stdout",
     "output_type": "stream",
     "text": [
      "\n",
      "Caregiver 4 has successfully submitted their availability.\n",
      "Total hours for Caregiver 4: 6 hours.\n",
      "\n",
      "\n",
      "Caregiver Sign-In\n",
      "Caregiver 1 - submitted\n",
      "Caregiver 2 - submitted\n",
      "Caregiver 3 - submitted\n",
      "Caregiver 4 - submitted\n",
      "Caregiver 5\n",
      "Caregiver 6\n",
      "Caregiver 7\n",
      "Caregiver 8\n"
     ]
    },
    {
     "name": "stdin",
     "output_type": "stream",
     "text": [
      "Enter your name:  Caregiver 5\n"
     ]
    },
    {
     "name": "stdout",
     "output_type": "stream",
     "text": [
      "\n",
      "Setting availability for Caregiver 5 for the week:\n",
      "\n",
      "\n",
      "Monday:\n",
      "  All shifts are filled for this day.\n",
      "\n",
      "Tuesday:\n",
      "  All shifts are filled for this day.\n",
      "\n",
      "Wednesday:\n",
      "  All shifts are filled for this day.\n",
      "\n",
      "Thursday:\n",
      "  All shifts are filled for this day.\n",
      "\n",
      "Friday:\n",
      "  2. 1:00 PM - 7:00 PM\n"
     ]
    },
    {
     "name": "stdin",
     "output_type": "stream",
     "text": [
      "Enter the shift numbers you're available for on Friday (separated by commas), or '0' if unavailable:  2\n"
     ]
    },
    {
     "name": "stdout",
     "output_type": "stream",
     "text": [
      "\n",
      "Saturday:\n",
      "  2. 1:00 PM - 7:00 PM\n"
     ]
    },
    {
     "name": "stdin",
     "output_type": "stream",
     "text": [
      "Enter the shift numbers you're available for on Saturday (separated by commas), or '0' if unavailable:  0\n"
     ]
    },
    {
     "name": "stdout",
     "output_type": "stream",
     "text": [
      "\n",
      "Sunday:\n",
      "  2. 1:00 PM - 7:00 PM\n"
     ]
    },
    {
     "name": "stdin",
     "output_type": "stream",
     "text": [
      "Enter the shift numbers you're available for on Sunday (separated by commas), or '0' if unavailable:  0\n"
     ]
    },
    {
     "name": "stdout",
     "output_type": "stream",
     "text": [
      "\n",
      "Caregiver 5 has successfully submitted their availability.\n",
      "Total hours for Caregiver 5: 6 hours.\n",
      "\n",
      "\n",
      "Caregiver Sign-In\n",
      "Caregiver 1 - submitted\n",
      "Caregiver 2 - submitted\n",
      "Caregiver 3 - submitted\n",
      "Caregiver 4 - submitted\n",
      "Caregiver 5 - submitted\n",
      "Caregiver 6\n",
      "Caregiver 7\n",
      "Caregiver 8\n"
     ]
    },
    {
     "name": "stdin",
     "output_type": "stream",
     "text": [
      "Enter your name:  Caregiver 6\n"
     ]
    },
    {
     "name": "stdout",
     "output_type": "stream",
     "text": [
      "\n",
      "Setting availability for Caregiver 6 for the week:\n",
      "\n",
      "\n",
      "Monday:\n",
      "  All shifts are filled for this day.\n",
      "\n",
      "Tuesday:\n",
      "  All shifts are filled for this day.\n",
      "\n",
      "Wednesday:\n",
      "  All shifts are filled for this day.\n",
      "\n",
      "Thursday:\n",
      "  All shifts are filled for this day.\n",
      "\n",
      "Friday:\n",
      "  All shifts are filled for this day.\n",
      "\n",
      "Saturday:\n",
      "  2. 1:00 PM - 7:00 PM\n"
     ]
    },
    {
     "name": "stdin",
     "output_type": "stream",
     "text": [
      "Enter the shift numbers you're available for on Saturday (separated by commas), or '0' if unavailable:  2\n"
     ]
    },
    {
     "name": "stdout",
     "output_type": "stream",
     "text": [
      "\n",
      "Sunday:\n",
      "  2. 1:00 PM - 7:00 PM\n"
     ]
    },
    {
     "name": "stdin",
     "output_type": "stream",
     "text": [
      "Enter the shift numbers you're available for on Sunday (separated by commas), or '0' if unavailable:  0\n"
     ]
    },
    {
     "name": "stdout",
     "output_type": "stream",
     "text": [
      "\n",
      "Caregiver 6 has successfully submitted their availability.\n",
      "Total hours for Caregiver 6: 6 hours.\n",
      "\n",
      "\n",
      "Caregiver Sign-In\n",
      "Caregiver 1 - submitted\n",
      "Caregiver 2 - submitted\n",
      "Caregiver 3 - submitted\n",
      "Caregiver 4 - submitted\n",
      "Caregiver 5 - submitted\n",
      "Caregiver 6 - submitted\n",
      "Caregiver 7\n",
      "Caregiver 8\n"
     ]
    },
    {
     "name": "stdin",
     "output_type": "stream",
     "text": [
      "Enter your name:  0\n"
     ]
    },
    {
     "name": "stdout",
     "output_type": "stream",
     "text": [
      "Caregiver not found. Please try again.\n",
      "\n",
      "Caregiver Sign-In\n",
      "Caregiver 1 - submitted\n",
      "Caregiver 2 - submitted\n",
      "Caregiver 3 - submitted\n",
      "Caregiver 4 - submitted\n",
      "Caregiver 5 - submitted\n",
      "Caregiver 6 - submitted\n",
      "Caregiver 7\n",
      "Caregiver 8\n"
     ]
    },
    {
     "name": "stdin",
     "output_type": "stream",
     "text": [
      "Enter your name:  Caregiver 7\n"
     ]
    },
    {
     "name": "stdout",
     "output_type": "stream",
     "text": [
      "\n",
      "Setting availability for Caregiver 7 for the week:\n",
      "\n",
      "\n",
      "Monday:\n",
      "  All shifts are filled for this day.\n",
      "\n",
      "Tuesday:\n",
      "  All shifts are filled for this day.\n",
      "\n",
      "Wednesday:\n",
      "  All shifts are filled for this day.\n",
      "\n",
      "Thursday:\n",
      "  All shifts are filled for this day.\n",
      "\n",
      "Friday:\n",
      "  All shifts are filled for this day.\n",
      "\n",
      "Saturday:\n",
      "  All shifts are filled for this day.\n",
      "\n",
      "Sunday:\n",
      "  2. 1:00 PM - 7:00 PM\n"
     ]
    },
    {
     "name": "stdin",
     "output_type": "stream",
     "text": [
      "Enter the shift numbers you're available for on Sunday (separated by commas), or '0' if unavailable:  2\n"
     ]
    },
    {
     "name": "stdout",
     "output_type": "stream",
     "text": [
      "\n",
      "Caregiver 7 has successfully submitted their availability.\n",
      "Total hours for Caregiver 7: 6 hours.\n",
      "\n",
      "\n",
      "Caregiver Sign-In\n",
      "Caregiver 1 - submitted\n",
      "Caregiver 2 - submitted\n",
      "Caregiver 3 - submitted\n",
      "Caregiver 4 - submitted\n",
      "Caregiver 5 - submitted\n",
      "Caregiver 6 - submitted\n",
      "Caregiver 7 - submitted\n",
      "Caregiver 8\n"
     ]
    },
    {
     "name": "stdin",
     "output_type": "stream",
     "text": [
      "Enter your name:  Caregiver 8\n"
     ]
    },
    {
     "name": "stdout",
     "output_type": "stream",
     "text": [
      "\n",
      "Setting availability for Caregiver 8 for the week:\n",
      "\n",
      "\n",
      "Monday:\n",
      "  All shifts are filled for this day.\n",
      "\n",
      "Tuesday:\n",
      "  All shifts are filled for this day.\n",
      "\n",
      "Wednesday:\n",
      "  All shifts are filled for this day.\n",
      "\n",
      "Thursday:\n",
      "  All shifts are filled for this day.\n",
      "\n",
      "Friday:\n",
      "  All shifts are filled for this day.\n",
      "\n",
      "Saturday:\n",
      "  All shifts are filled for this day.\n",
      "\n",
      "Sunday:\n",
      "  All shifts are filled for this day.\n",
      "\n",
      "Caregiver 8 has successfully submitted their availability.\n",
      "Total hours for Caregiver 8: 0 hours.\n",
      "\n",
      "\n",
      "Final Weekly Schedule:\n",
      "\n",
      "Monday:\n",
      "  7:00 AM - 1:00 PM: Caregiver 1\n",
      "  1:00 PM - 7:00 PM: Caregiver 2\n",
      "Tuesday:\n",
      "  7:00 AM - 1:00 PM: Caregiver 1\n",
      "  1:00 PM - 7:00 PM: Caregiver 2\n",
      "Wednesday:\n",
      "  7:00 AM - 1:00 PM: Caregiver 1\n",
      "  1:00 PM - 7:00 PM: Caregiver 3\n",
      "Thursday:\n",
      "  7:00 AM - 1:00 PM: Caregiver 1\n",
      "  1:00 PM - 7:00 PM: Caregiver 4\n",
      "Friday:\n",
      "  7:00 AM - 1:00 PM: Caregiver 1\n",
      "  1:00 PM - 7:00 PM: Caregiver 5\n",
      "Saturday:\n",
      "  7:00 AM - 1:00 PM: Caregiver 1\n",
      "  1:00 PM - 7:00 PM: Caregiver 6\n",
      "Sunday:\n",
      "  7:00 AM - 1:00 PM: Caregiver 1\n",
      "  1:00 PM - 7:00 PM: Caregiver 7\n",
      "\n",
      "Schedule has been reset for the next week.\n",
      "\n"
     ]
    }
   ],
   "source": [
    "from datetime import datetime, timedelta\n",
    "\n",
    "class Caregiver:\n",
    "    def __init__(self, name):\n",
    "        self.name = name\n",
    "        self.availability = {}  # Store weekly availability\n",
    "        self.total_hours = 0\n",
    "        self.submitted = False\n",
    "\n",
    "    def set_availability(self, day, shift_num, status='available'):\n",
    "        shifts = [\"7:00 AM - 1:00 PM\", \"1:00 PM - 7:00 PM\"]\n",
    "        shift = shifts[shift_num - 1]  # Map shift number to shift time\n",
    "        if day not in self.availability:\n",
    "            self.availability[day] = {}\n",
    "        self.availability[day][shift] = status\n",
    "        if status in ['preferred', 'available']:\n",
    "            self.total_hours += 6  # Each shift is 6 hours\n",
    "\n",
    "    def display_availability(self):\n",
    "        for day, shifts in self.availability.items():\n",
    "            print(f\"{day}:\")\n",
    "            for shift, status in shifts.items():\n",
    "                print(f\"  {shift}: {status}\")\n",
    "        print(f\"Total hours for the week: {self.total_hours} hours\\n\")\n",
    "\n",
    "class Schedule:\n",
    "    def __init__(self, caregivers):\n",
    "        self.caregivers = caregivers\n",
    "        self.filled_shifts = {day: {shift: False for shift in range(1, 3)} for day in [\"Monday\", \"Tuesday\", \"Wednesday\", \"Thursday\", \"Friday\", \"Saturday\", \"Sunday\"]}\n",
    "\n",
    "    def collect_availability(self):\n",
    "        # Loop until all caregivers have submitted their availability\n",
    "        while not all(caregiver.submitted for caregiver in self.caregivers):\n",
    "            # Display caregivers list with \"submitted\" next to those who have completed\n",
    "            print(\"\\nCaregiver Sign-In\")\n",
    "            for caregiver in self.caregivers:\n",
    "                status = \" - submitted\" if caregiver.submitted else \"\"\n",
    "                print(f\"{caregiver.name}{status}\")\n",
    "\n",
    "            caregiver_name = input(\"Enter your name: \")\n",
    "            caregiver = next((c for c in self.caregivers if c.name == caregiver_name), None)\n",
    "\n",
    "            if caregiver is None:\n",
    "                print(\"Caregiver not found. Please try again.\")\n",
    "                continue\n",
    "            if caregiver.submitted:\n",
    "                print(f\"{caregiver.name} has already submitted their availability.\")\n",
    "                continue\n",
    "\n",
    "            print(f\"\\nSetting availability for {caregiver.name} for the week:\\n\")\n",
    "            days_of_week = [\"Monday\", \"Tuesday\", \"Wednesday\", \"Thursday\", \"Friday\", \"Saturday\", \"Sunday\"]\n",
    "\n",
    "            for day in days_of_week:\n",
    "                print(f\"\\n{day}:\")\n",
    "                available_shifts = []\n",
    "                \n",
    "                # Display only unfilled shifts\n",
    "                if not self.filled_shifts[day][1]:\n",
    "                    print(\"  1. 7:00 AM - 1:00 PM\")\n",
    "                    available_shifts.append(1)\n",
    "                if not self.filled_shifts[day][2]:\n",
    "                    print(\"  2. 1:00 PM - 7:00 PM\")\n",
    "                    available_shifts.append(2)\n",
    "                \n",
    "                # If all shifts are filled for the day, skip\n",
    "                if not available_shifts:\n",
    "                    print(\"  All shifts are filled for this day.\")\n",
    "                    continue\n",
    "\n",
    "                shift_numbers = input(f\"Enter the shift numbers you're available for on {day} (separated by commas), or '0' if unavailable: \")\n",
    "\n",
    "                if shift_numbers == '0':\n",
    "                    continue\n",
    "\n",
    "                shift_numbers = [int(num.strip()) for num in shift_numbers.split(',') if num.strip().isdigit()]\n",
    "                for shift_num in shift_numbers:\n",
    "                    if shift_num in available_shifts:  # Set only for unfilled shifts\n",
    "                        caregiver.set_availability(day, shift_num, 'available')\n",
    "                        self.filled_shifts[day][shift_num] = True  # Mark shift as filled\n",
    "\n",
    "            caregiver.submitted = True\n",
    "            print(f\"\\n{caregiver.name} has successfully submitted their availability.\")\n",
    "            print(f\"Total hours for {caregiver.name}: {caregiver.total_hours} hours.\\n\")\n",
    "\n",
    "        # All caregivers have submitted; display the final weekly schedule\n",
    "        self.display_final_schedule()\n",
    "        # Reset for the next week\n",
    "        self.reset_schedule()\n",
    "\n",
    "    def display_final_schedule(self):\n",
    "        print(\"\\nFinal Weekly Schedule:\\n\")\n",
    "        days_of_week = [\"Monday\", \"Tuesday\", \"Wednesday\", \"Thursday\", \"Friday\", \"Saturday\", \"Sunday\"]\n",
    "        shifts = [\"7:00 AM - 1:00 PM\", \"1:00 PM - 7:00 PM\"]\n",
    "\n",
    "        for day in days_of_week:\n",
    "            print(f\"{day}:\")\n",
    "            for i, shift in enumerate(shifts, 1):\n",
    "                assigned_caregivers = [caregiver.name for caregiver in self.caregivers \n",
    "                                       if caregiver.availability.get(day, {}).get(shift) in ['preferred', 'available']]\n",
    "                print(f\"  {shift}: {', '.join(assigned_caregivers) if assigned_caregivers else 'No caregivers available'}\")\n",
    "\n",
    "    def reset_schedule(self):\n",
    "        for caregiver in self.caregivers:\n",
    "            caregiver.availability.clear()\n",
    "            caregiver.total_hours = 0\n",
    "            caregiver.submitted = False\n",
    "        self.filled_shifts = {day: {shift: False for shift in range(1, 3)} for day in [\"Monday\", \"Tuesday\", \"Wednesday\", \"Thursday\", \"Friday\", \"Saturday\", \"Sunday\"]}\n",
    "        print(\"\\nSchedule has been reset for the next week.\\n\")\n",
    "\n",
    "# Initialize caregivers\n",
    "caregivers = [Caregiver(f\"Caregiver {i+1}\") for i in range(8)]\n",
    "\n",
    "# Create a schedule and start collecting caregiver availability\n",
    "schedule = Schedule(caregivers)\n",
    "schedule.collect_availability()\n"
   ]
  },
  {
   "cell_type": "code",
   "execution_count": null,
   "id": "27c9c018-fc37-414c-93eb-71878678ae9d",
   "metadata": {},
   "outputs": [
    {
     "name": "stdout",
     "output_type": "stream",
     "text": [
      "\n",
      "Caregiver Sign-In\n",
      "1. Caregiver 1\n",
      "2. Caregiver 2\n",
      "3. Caregiver 3\n",
      "4. Caregiver 4\n",
      "5. Caregiver 5\n",
      "6. Caregiver 6\n",
      "7. Caregiver 7\n",
      "8. Caregiver 8\n"
     ]
    },
    {
     "name": "stdin",
     "output_type": "stream",
     "text": [
      "Select a caregiver by number:  1\n"
     ]
    },
    {
     "name": "stdout",
     "output_type": "stream",
     "text": [
      "\n",
      "Setting availability for Caregiver 1 for the week:\n",
      "\n"
     ]
    }
   ],
   "source": [
    "from datetime import datetime, timedelta\n",
    "\n",
    "class Caregiver:\n",
    "    def __init__(self, name):\n",
    "        self.name = name\n",
    "        self.availability = {}  # Store weekly availability\n",
    "        self.total_hours = 0\n",
    "        self.submitted = False\n",
    "\n",
    "    def set_availability(self, day, shift, status='available'):\n",
    "        if day not in self.availability:\n",
    "            self.availability[day] = {}\n",
    "        self.availability[day][shift] = status\n",
    "        if status in ['preferred', 'available']:\n",
    "            self.total_hours += 6  # Each shift is 6 hours\n",
    "\n",
    "    def display_availability(self):\n",
    "        for day, shifts in self.availability.items():\n",
    "            print(f\"{day}:\")\n",
    "            for shift, status in shifts.items():\n",
    "                print(f\"  {shift}: {status}\")\n",
    "        print(f\"Total hours for the week: {self.total_hours} hours\\n\")\n",
    "\n",
    "class Schedule:\n",
    "    def __init__(self, caregivers):\n",
    "        self.caregivers = caregivers\n",
    "\n",
    "    def collect_availability(self):\n",
    "        # Loop until all caregivers have submitted their availability\n",
    "        while not all(caregiver.submitted for caregiver in self.caregivers):\n",
    "            # Display caregivers list with \"submitted\" next to those who have completed\n",
    "            print(\"\\nCaregiver Sign-In\")\n",
    "            for i, caregiver in enumerate(self.caregivers, 1):\n",
    "                status = \" - submitted\" if caregiver.submitted else \"\"\n",
    "                print(f\"{i}. {caregiver.name}{status}\")\n",
    "            \n",
    "            caregiver_choice = int(input(\"Select a caregiver by number: \")) - 1\n",
    "            caregiver = self.caregivers[caregiver_choice]\n",
    "\n",
    "            # Skip if already submitted\n",
    "            if caregiver.submitted:\n",
    "                print(f\"{caregiver.name} has already submitted their availability.\")\n",
    "                continue\n",
    "\n",
    "            print(f\"\\nSetting availability for {caregiver.name} for the week:\\n\")\n",
    "            days_of_week = [\"Monday\", \"Tuesday\", \"Wednesday\", \"Thursday\", \"Friday\", \"Saturday\", \"Sunday\"]\n",
    "            shifts = [\"7:00 AM - 1:00 PM\", \"1:00 PM - 7:00 PM\"]\n",
    "\n",
    "            for day in days_of_week:\n",
    "                for shift in shifts:\n",
    "                    status = input(f\"Is {caregiver.name} available on {day} during {shift}? (preferred/available/unavailable): \")\n",
    "                    caregiver.set_availability(day, shift, status)\n",
    "\n",
    "            caregiver.submitted = True\n",
    "            print(f\"\\n{caregiver.name} has successfully submitted their availability.\")\n",
    "            print(f\"Total hours for {caregiver.name}: {caregiver.total_hours} hours.\\n\")\n",
    "\n",
    "        # All caregivers have submitted; display the final weekly schedule\n",
    "        self.display_final_schedule()\n",
    "        # Reset for the next week\n",
    "        self.reset_schedule()\n",
    "\n",
    "    def display_final_schedule(self):\n",
    "        print(\"\\nFinal Weekly Schedule:\\n\")\n",
    "        days_of_week = [\"Monday\", \"Tuesday\", \"Wednesday\", \"Thursday\", \"Friday\", \"Saturday\", \"Sunday\"]\n",
    "        shifts = [\"7:00 AM - 1:00 PM\", \"1:00 PM - 7:00 PM\"]\n",
    "\n",
    "        for day in days_of_week:\n",
    "            print(f\"{day}:\")\n",
    "            for shift in shifts:\n",
    "                assigned_caregivers = [caregiver.name for caregiver in self.caregivers \n",
    "                                       if caregiver.availability.get(day, {}).get(shift) in ['preferred', 'available']]\n",
    "                print(f\"  {shift}: {', '.join(assigned_caregivers) if assigned_caregivers else 'No caregivers available'}\")\n",
    "\n",
    "    def reset_schedule(self):\n",
    "        for caregiver in self.caregivers:\n",
    "            caregiver.availability.clear()\n",
    "            caregiver.total_hours = 0\n",
    "            caregiver.submitted = False\n",
    "        print(\"\\nSchedule has been reset for the next week.\\n\")\n",
    "\n",
    "# Initialize caregivers\n",
    "caregivers = [Caregiver(f\"Caregiver {i+1}\") for i in range(8)]\n",
    "\n",
    "# Create a schedule and start collecting caregiver availability\n",
    "schedule = Schedule(caregivers)\n",
    "schedule.collect_availability()\n"
   ]
  },
  {
   "cell_type": "code",
   "execution_count": null,
   "id": "bc571681-df48-4c63-b134-7f0cafa0485b",
   "metadata": {},
   "outputs": [],
   "source": []
  }
 ],
 "metadata": {
  "kernelspec": {
   "display_name": "Python 3 (ipykernel)",
   "language": "python",
   "name": "python3"
  },
  "language_info": {
   "codemirror_mode": {
    "name": "ipython",
    "version": 3
   },
   "file_extension": ".py",
   "mimetype": "text/x-python",
   "name": "python",
   "nbconvert_exporter": "python",
   "pygments_lexer": "ipython3",
   "version": "3.12.3"
  }
 },
 "nbformat": 4,
 "nbformat_minor": 5
}
