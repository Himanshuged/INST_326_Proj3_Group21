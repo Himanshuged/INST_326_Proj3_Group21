{
 "cells": [
  {
   "cell_type": "markdown",
   "id": "cddf5de3-a9f3-4471-bbaf-aca41a70ce89",
   "metadata": {},
   "source": [
    "### INST326 OOP Project 03"
   ]
  },
  {
   "cell_type": "markdown",
   "id": "2bb7f115-9eba-4f29-918e-b016e6a7edc8",
   "metadata": {},
   "source": [
    "Rename this notebook, replacing \"_Assignment\" with \"_YourName\"<br>\n",
    "Insert Signature Block Here"
   ]
  },
  {
   "cell_type": "code",
   "execution_count": null,
   "id": "f1d4fea5-5a1c-43c4-9fc8-83ec6f5d9cb8",
   "metadata": {},
   "outputs": [],
   "source": [
    "Himanshu Gediya\n",
    "\n",
    "INST326 Section 0203\n",
    "Group number / name if applicable\n",
    "Himanshu Gediya Project03 Date Due 11/18/2024\n",
    "\n",
    "Honor Pledge\n",
    "\n",
    "I pledge that the work contained in this assignment is my own, and that I have complied with University and course policies on academic integrity, and AI use.\n",
    "\n",
    "Disclosures and Citations\n",
    "\n",
    "Example: ChatGPT, response to the prompt \"explain how to write a function in python. give an example. Include a citation to chat gpt for the response. include the prompt in the citation.\" OpenAI, August 29, 2024."
   ]
  },
  {
   "cell_type": "markdown",
   "id": "8ee05bdb-db2d-41c2-9f23-3af75d058612",
   "metadata": {},
   "source": [
    "### The Project\n",
    "Everyone will do the same project this time. This is a group project, so you must work in your assigned groups. Include the link to your group's GitHub repository (one link per group). Use comments in your code to document your solution. If you need to write comments to the grader, add a markdown cell immediately above your code solution and add your comments there. Be sure to read and follow all the requirements and the Notebook Instructions at the bottom of this notebook. Your grade may depend on it!"
   ]
  },
  {
   "cell_type": "markdown",
   "id": "a1c98e85-2c64-4a03-8309-d91035cca6d2",
   "metadata": {},
   "source": [
    "#### 1. A Scheduling Program\r",
    ">  My wife is responsible for scheduling caregivers for her 93 year-old mother. Currently she writes out the schedule on a monthly calendar and photocopies it for everyone. I want all of you to help me write a program to help her with scheduling. While this is a specific application, this program will be broadly useful and adaptable to any scheduling needs for small businesses, clubs, and more."
   ]
  },
  {
   "cell_type": "markdown",
   "id": "28b28d8a-dbb3-4f15-bbe0-e14504b84876",
   "metadata": {},
   "source": [
    "#### Requirements\n",
    ">  Care is required 12 hours per day, 7 days a week. There are two shifts each day: 7:00 AM - 1:00 PM, and 1:00 PM to 7:00 PM. There are a total of 8 caregivers. Some are family members and some are paid. Each caregiver has their own availability for shifts that is generally the same from month to month, but there are exceptions for work, vacations, and other responsibilities. Your program should do the following:\n",
    "> 1. Manage caregivers and their schedules. Attributes include: name, phone, email, pay rate, and hours.\n",
    "> 2. Each caregiver should have their own availability schedule where they can indicate their availability for each shift. Availability categories are 'preferred', 'available' (default), and 'unavailable'.\n",
    "> 3. Create a care schedule that covers AM and PM shifts and displays caregiver names on a calendar (see example). The schedule should accomodate caregivers' individual schedules and availability preferences. The python calendar module provides options for creating HTML calendars. Sample code for the HTML calendar is in the project folder.\n",
    "> 4. Paid caregivers are paid weekly at $20/hr. Your program should calculate weekly pay based on assigned hours. Provide a separate pay report that lists weekly (gross: hours x rate) amounts to each caregiver, along with weekly and monthly totals. The report can be a text document, or presented in GUI or HTML format. "
   ]
  },
  {
   "cell_type": "markdown",
   "id": "6708f6cf-aac7-430e-947d-6f9c8dd161f6",
   "metadata": {
    "jp-MarkdownHeadingCollapsed": true
   },
   "source": [
    "#### Group Requirements\n",
    ">  1. Your submitted project should follow OOP principles like abstraction, encapsulation, inheritance, and polymorphism as appropriate. Your program should use classes. \n",
    ">  2. Select a group leader who will host the group's project repository on their GitHub.\n",
    ">  3. Create the group repository and add a main program document. See example.\n",
    ">  4. Create branches off the main program for each group member, and assign part of the program to each member.\n",
    ">  5. Each member should work on their branch.\n",
    ">  6. When each member is finished, merge the branches back into the main program. You may use 'merge' or 'pull requests', your choice.\n",
    ">  7. iterate and debug as necessary."
   ]
  },
  {
   "cell_type": "markdown",
   "id": "71b8f18e-607a-4c94-81a3-ebbc488ba8c6",
   "metadata": {},
   "source": [
    "#### Working with HTML\n",
    "> Since this is a course on python, not HTML, you are not expected to know HTML. Therefore, you may copy applicable portions of the sample code or use AI to write the HTML portions of your application. Ypu should write the main python code yourself.\n"
   ]
  },
  {
   "cell_type": "markdown",
   "id": "fc336368-4292-42af-aa60-06b27ff6b303",
   "metadata": {
    "jp-MarkdownHeadingCollapsed": true
   },
   "source": [
    "#### What you need to turn in\n",
    ">  This is a group project. There will be one submission per group. Your submission will be graded as a group.\n",
    ">  1. Include your group number and the names of all group members in the signature block at the top of this notebook.\n",
    ">  2. In the cell below, paste the link to your project repository. One link per group. The grader will review the activity and history provided by GitHub. To add a hyperlink to a Jupyter markdown cell, follow the instructions in the cell below.\n",
    ">  3. Below the GitHub Repository Link cell is a code cell. Copy and paste your final program code into this cell."
   ]
  },
  {
   "cell_type": "markdown",
   "id": "3ece03e6-a41f-484d-8417-d8c4e156b2c0",
   "metadata": {},
   "source": [
    "#### GitHub Repository Link\n",
    "> Example: [INST326_Fall2024/Projects/Project03](https://github.com/sdempwolf/INST326_Fall_2024/tree/main/Projects/Project03)\n",
    ">\n",
    "> Edit the link code below with your information, then run this cell. Test the link! It should take you to your GitHub project repository.\n",
    "> [external link text](http://url_here)"
   ]
  },
  {
   "cell_type": "code",
   "execution_count": null,
   "id": "cb35b908-6683-4144-816c-051715925504",
   "metadata": {},
   "outputs": [],
   "source": [
    "import tkinter as tk\n",
    "from tkinter import ttk, messagebox\n",
    "from calendar import monthcalendar, month_name\n",
    "from datetime import datetime\n",
    "\n",
    "# Caregiver Data Structure (This would be extended with actual caregiver data in a real application)\n",
    "caregivers = [\n",
    "    {\"name\": \"Alice\", \"phone\": \"123-456-7890\", \"email\": \"alice@example.com\", \"pay_rate\": 20, \"hours\": 0, \"availability\": {}},\n",
    "    {\"name\": \"Bob\", \"phone\": \"987-654-3210\", \"email\": \"bob@example.com\", \"pay_rate\": 20, \"hours\": 0, \"availability\": {}},\n",
    "]\n",
    "\n",
    "# Initialize global variables\n",
    "selected_month = datetime.now().month\n",
    "selected_year = datetime.now().year\n",
    "shift_data = {}  # Holds shift information by day and shift\n",
    "\n",
    "# Initialize main app\n",
    "root = tk.Tk()\n",
    "root.title(\"Care Schedule Management\")\n",
    "root.geometry(\"800x600\")\n",
    "\n",
    "# Main frame\n",
    "frame = tk.Frame(root)\n",
    "frame.pack(padx=10, pady=10)\n",
    "\n",
    "# Display Caregivers Info\n",
    "def display_caregivers():\n",
    "    for caregiver in caregivers:\n",
    "        print(f\"Caregiver: {caregiver['name']}, Contact: {caregiver['phone']}, Email: {caregiver['email']}, Rate: {caregiver['pay_rate']}\")\n",
    "\n",
    "# Generate a new schedule\n",
    "def generate_schedule(month, year):\n",
    "    calendar_frame = tk.Frame(frame)\n",
    "    calendar_frame.grid(row=2, column=0, columnspan=7)\n",
    "\n",
    "    # Calendar Header\n",
    "    tk.Label(calendar_frame, text=f\"{month_name[month]} {year}\", font=(\"Arial\", 16)).grid(row=0, column=0, columnspan=7)\n",
    "\n",
    "    # Days of the week headers\n",
    "    days = [\"Mon\", \"Tue\", \"Wed\", \"Thu\", \"Fri\", \"Sat\", \"Sun\"]\n",
    "    for col, day in enumerate(days):\n",
    "        tk.Label(calendar_frame, text=day).grid(row=1, column=col)\n",
    "\n",
    "    # Calendar Body\n",
    "    month_days = monthcalendar(year, month)\n",
    "    for row, week in enumerate(month_days, start=2):\n",
    "        for col, day in enumerate(week):\n",
    "            if day != 0:\n",
    "                day_frame = tk.Frame(calendar_frame, borderwidth=1, relief=\"solid\", width=100, height=100)\n",
    "                day_frame.grid(row=row, column=col, padx=1, pady=1, sticky=\"nsew\")\n",
    "                day_label = tk.Label(day_frame, text=str(day), font=(\"Arial\", 10))\n",
    "                day_label.grid(row=0, column=0)\n",
    "\n",
    "                # AM Shift Button\n",
    "                am_btn = tk.Button(day_frame, text=\"AM\", command=lambda d=day: manage_shift(d, \"AM\"))\n",
    "                am_btn.grid(row=1, column=0, pady=5)\n",
    "\n",
    "                # PM Shift Button\n",
    "                pm_btn = tk.Button(day_frame, text=\"PM\", command=lambda d=day: manage_shift(d, \"PM\"))\n",
    "                pm_btn.grid(row=2, column=0, pady=5)\n",
    "\n",
    "                # Save shift references to be managed by schedule logic\n",
    "                shift_data[(day, \"AM\")] = []\n",
    "                shift_data[(day, \"PM\")] = []\n",
    "\n",
    "# Function to manage shift assignments\n",
    "def manage_shift(day, shift):\n",
    "    # Check if the shift is already assigned\n",
    "    if shift_data[(day, shift)]:\n",
    "        messagebox.showinfo(\"Shift Filled\", f\"The {shift} shift for Day {day} is already assigned to: {', '.join(shift_data[(day, shift)])}.\")\n",
    "        return\n",
    "\n",
    "    shift_window = tk.Toplevel(root)\n",
    "    shift_window.title(f\"Manage {shift} Shift for Day {day}\")\n",
    "    \n",
    "    # Caregiver selection\n",
    "    tk.Label(shift_window, text=f\"{shift} Shift - Day {day}\", font=(\"Arial\", 14)).pack(pady=10)\n",
    "    tk.Label(shift_window, text=\"Select Caregivers for this shift:\").pack()\n",
    "\n",
    "    caregiver_vars = {}\n",
    "    for caregiver in caregivers:\n",
    "        var = tk.BooleanVar()\n",
    "        chk = tk.Checkbutton(shift_window, text=caregiver[\"name\"], variable=var)\n",
    "        chk.pack(anchor=\"w\")\n",
    "        caregiver_vars[caregiver[\"name\"]] = var\n",
    "\n",
    "    def save_shift():\n",
    "        selected_caregivers = [name for name, var in caregiver_vars.items() if var.get()]\n",
    "        if selected_caregivers:\n",
    "            shift_data[(day, shift)] = selected_caregivers\n",
    "            shift_window.destroy()\n",
    "            update_schedule_display()\n",
    "        else:\n",
    "            messagebox.showwarning(\"No Caregiver Selected\", \"Please select at least one caregiver to save the shift.\")\n",
    "\n",
    "    tk.Button(shift_window, text=\"Save Shift\", command=save_shift).pack(pady=10)\n",
    "\n",
    "# Update calendar to show assigned caregivers\n",
    "def update_schedule_display():\n",
    "    for (day, shift), caregivers in shift_data.items():\n",
    "        shift_label_text = \", \".join(caregivers) if caregivers else \"No Caregiver\"\n",
    "        \n",
    "        for widget in frame.winfo_children():\n",
    "            if isinstance(widget, tk.Frame):\n",
    "                for child in widget.winfo_children():\n",
    "                    if isinstance(child, tk.Label) and child.cget(\"text\") == str(day):\n",
    "                        shift_display_label = tk.Label(widget, text=f\"{shift} Shift: {shift_label_text}\", font=(\"Arial\", 8))\n",
    "                        shift_display_label.grid(row=3 if shift == \"AM\" else 4, column=0)\n",
    "\n",
    "# Control panel for month navigation\n",
    "def navigate_month(direction):\n",
    "    global selected_month, selected_year\n",
    "    if direction == \"prev\":\n",
    "        selected_month -= 1\n",
    "        if selected_month == 0:\n",
    "            selected_month = 12\n",
    "            selected_year -= 1\n",
    "    elif direction == \"next\":\n",
    "        selected_month += 1\n",
    "        if selected_month == 13:\n",
    "            selected_month = 1\n",
    "            selected_year += 1\n",
    "    refresh_calendar()\n",
    "\n",
    "# Refresh the calendar with updated month/year\n",
    "def refresh_calendar():\n",
    "    for widget in frame.winfo_children():\n",
    "        widget.destroy()\n",
    "    generate_schedule(selected_month, selected_year)\n",
    "\n",
    "# Buttons for navigation\n",
    "control_frame = tk.Frame(root)\n",
    "control_frame.pack(pady=10)\n",
    "\n",
    "prev_button = tk.Button(control_frame, text=\"Previous Month\", command=lambda: navigate_month(\"prev\"))\n",
    "prev_button.pack(side=tk.LEFT, padx=5)\n",
    "\n",
    "next_button = tk.Button(control_frame, text=\"Next Month\", command=lambda: navigate_month(\"next\"))\n",
    "next_button.pack(side=tk.LEFT, padx=5)\n",
    "\n",
    "# Initialize the calendar view\n",
    "generate_schedule(selected_month, selected_year)\n",
    "\n",
    "# Run the application\n",
    "root.mainloop()"
   ]
  },
  {
   "cell_type": "markdown",
   "id": "ec8ddd19-87cd-475d-a07f-7dc8983dc636",
   "metadata": {},
   "source": [
    "### Notebook Instructions\n",
    "> Before turning in your notebook:\n",
    "> 1. Make sure you have renamed the notebook file as instructed\n",
    "> 2. Make sure you have included your signature block and that it is correct according to the instructions\n",
    "> 3. comment your code as necessary\n",
    "> 4. run all code cells and double check that they run correctly. If you can't get your code to run correctly and you want partial credit, add a note for the grader in a new markdown cell directly above your code solution.<br><br>\n",
    "Turn in your notebook by uploading it to ELMS<br>\n",
    "IF the exercises involve saved data files, put your notebook and the data file(s) in a zip folder and upload the zip folder to ELMS"
   ]
  },
  {
   "cell_type": "code",
   "execution_count": null,
   "id": "c2f96be2-9bc0-46ea-98fb-51d8c07c7de8",
   "metadata": {},
   "outputs": [],
   "source": []
  },
  {
   "cell_type": "code",
   "execution_count": null,
   "id": "bf22ff08-d2e3-4f6c-a1bc-549d8e359312",
   "metadata": {},
   "outputs": [],
   "source": []
  }
 ],
 "metadata": {
  "kernelspec": {
   "display_name": "Python 3 (ipykernel)",
   "language": "python",
   "name": "python3"
  },
  "language_info": {
   "codemirror_mode": {
    "name": "ipython",
    "version": 3
   },
   "file_extension": ".py",
   "mimetype": "text/x-python",
   "name": "python",
   "nbconvert_exporter": "python",
   "pygments_lexer": "ipython3",
   "version": "3.12.4"
  }
 },
 "nbformat": 4,
 "nbformat_minor": 5
}
